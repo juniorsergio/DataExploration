{
 "cells": [
  {
   "cell_type": "markdown",
   "metadata": {
    "papermill": {
     "duration": 0.019106,
     "end_time": "2021-07-18T14:08:56.295163",
     "exception": false,
     "start_time": "2021-07-18T14:08:56.276057",
     "status": "completed"
    },
    "tags": []
   },
   "source": [
    "# Relationship between episode writer and IMDB rating for Breaking Bad episodes\n",
    "\n",
    "The purpose of this notebook is to investigate the question below and find out if the hypothesis is correct.\n",
    "\n",
    "### Question\n",
    "Is there a relationship between the writer of an episode and its IMDB rating?\n",
    "\n",
    "### Hypothesis\n",
    "Being the creator of the series, Vince Gilligan probably writes the best episodes and, therefore, has the highest IMDB ratings."
   ]
  },
  {
   "cell_type": "markdown",
   "metadata": {
    "papermill": {
     "duration": 0.017299,
     "end_time": "2021-07-18T14:08:56.335752",
     "exception": false,
     "start_time": "2021-07-18T14:08:56.318453",
     "status": "completed"
    },
    "tags": []
   },
   "source": [
    "### Basic imports"
   ]
  },
  {
   "cell_type": "code",
   "execution_count": 1,
   "metadata": {
    "execution": {
     "iopub.execute_input": "2021-07-18T14:08:56.374196Z",
     "iopub.status.busy": "2021-07-18T14:08:56.373461Z",
     "iopub.status.idle": "2021-07-18T14:08:57.514398Z",
     "shell.execute_reply": "2021-07-18T14:08:57.513773Z",
     "shell.execute_reply.started": "2021-07-18T13:50:17.955080Z"
    },
    "papermill": {
     "duration": 1.161194,
     "end_time": "2021-07-18T14:08:57.514553",
     "exception": false,
     "start_time": "2021-07-18T14:08:56.353359",
     "status": "completed"
    },
    "tags": []
   },
   "outputs": [],
   "source": [
    "import pandas as pd\n",
    "import numpy as np\n",
    "import seaborn as sns\n",
    "import matplotlib.pyplot as plt"
   ]
  },
  {
   "cell_type": "markdown",
   "metadata": {
    "papermill": {
     "duration": 0.015921,
     "end_time": "2021-07-18T14:08:57.547969",
     "exception": false,
     "start_time": "2021-07-18T14:08:57.532048",
     "status": "completed"
    },
    "tags": []
   },
   "source": [
    "### Importing the dataset"
   ]
  },
  {
   "cell_type": "code",
   "execution_count": 2,
   "metadata": {
    "execution": {
     "iopub.execute_input": "2021-07-18T14:08:57.587197Z",
     "iopub.status.busy": "2021-07-18T14:08:57.586262Z",
     "iopub.status.idle": "2021-07-18T14:08:57.639007Z",
     "shell.execute_reply": "2021-07-18T14:08:57.639521Z",
     "shell.execute_reply.started": "2021-07-18T13:50:19.029322Z"
    },
    "papermill": {
     "duration": 0.075607,
     "end_time": "2021-07-18T14:08:57.639707",
     "exception": false,
     "start_time": "2021-07-18T14:08:57.564100",
     "status": "completed"
    },
    "tags": []
   },
   "outputs": [
    {
     "data": {
      "text/html": [
       "<div>\n",
       "<style scoped>\n",
       "    .dataframe tbody tr th:only-of-type {\n",
       "        vertical-align: middle;\n",
       "    }\n",
       "\n",
       "    .dataframe tbody tr th {\n",
       "        vertical-align: top;\n",
       "    }\n",
       "\n",
       "    .dataframe thead th {\n",
       "        text-align: right;\n",
       "    }\n",
       "</style>\n",
       "<table border=\"1\" class=\"dataframe\">\n",
       "  <thead>\n",
       "    <tr style=\"text-align: right;\">\n",
       "      <th></th>\n",
       "      <th>writer</th>\n",
       "      <th>rating</th>\n",
       "    </tr>\n",
       "  </thead>\n",
       "  <tbody>\n",
       "    <tr>\n",
       "      <th>0</th>\n",
       "      <td>Vince Gilligan</td>\n",
       "      <td>9.1</td>\n",
       "    </tr>\n",
       "    <tr>\n",
       "      <th>1</th>\n",
       "      <td>Vince Gilligan</td>\n",
       "      <td>8.7</td>\n",
       "    </tr>\n",
       "    <tr>\n",
       "      <th>2</th>\n",
       "      <td>Vince Gilligan</td>\n",
       "      <td>8.8</td>\n",
       "    </tr>\n",
       "    <tr>\n",
       "      <th>3</th>\n",
       "      <td>Vince Gilligan</td>\n",
       "      <td>8.3</td>\n",
       "    </tr>\n",
       "    <tr>\n",
       "      <th>4</th>\n",
       "      <td>Vince Gilligan, Patty Lin</td>\n",
       "      <td>8.4</td>\n",
       "    </tr>\n",
       "  </tbody>\n",
       "</table>\n",
       "</div>"
      ],
      "text/plain": [
       "                      writer  rating\n",
       "0             Vince Gilligan     9.1\n",
       "1             Vince Gilligan     8.7\n",
       "2             Vince Gilligan     8.8\n",
       "3             Vince Gilligan     8.3\n",
       "4  Vince Gilligan, Patty Lin     8.4"
      ]
     },
     "execution_count": 2,
     "metadata": {},
     "output_type": "execute_result"
    }
   ],
   "source": [
    "brba = pd.read_csv('breaking_bad.csv', encoding='latin-1')\n",
    "brba = brba[['Written by', 'Rating_IMDB']]\n",
    "brba = brba.rename(columns = {'Written by': 'writer', 'Rating_IMDB': 'rating'})\n",
    "brba.head()"
   ]
  },
  {
   "cell_type": "markdown",
   "metadata": {
    "papermill": {
     "duration": 0.016327,
     "end_time": "2021-07-18T14:08:57.673689",
     "exception": false,
     "start_time": "2021-07-18T14:08:57.657362",
     "status": "completed"
    },
    "tags": []
   },
   "source": [
    "# Data Treatment\n",
    "\n",
    "Vince Gilligan is only credited as a writer in 13 episodes according to IMDB. However, the database puts him as a writer of every episode for being the show's creator. Therefore, it's important to correct this entry so we only count him in the episodes that he actually wrote. Reviewing the IMDB page of the show, the only episode that Gilligan didn't write alone was \"Peekaboo\", the sixth episode of season 2, and the show's thirteenth."
   ]
  },
  {
   "cell_type": "code",
   "execution_count": 3,
   "metadata": {
    "execution": {
     "iopub.execute_input": "2021-07-18T14:08:57.717518Z",
     "iopub.status.busy": "2021-07-18T14:08:57.716837Z",
     "iopub.status.idle": "2021-07-18T14:08:57.720935Z",
     "shell.execute_reply": "2021-07-18T14:08:57.721399Z",
     "shell.execute_reply.started": "2021-07-18T13:50:19.077552Z"
    },
    "papermill": {
     "duration": 0.03121,
     "end_time": "2021-07-18T14:08:57.721573",
     "exception": false,
     "start_time": "2021-07-18T14:08:57.690363",
     "status": "completed"
    },
    "tags": []
   },
   "outputs": [
    {
     "data": {
      "text/plain": [
       "Vince Gilligan                                          12\n",
       "Vince Gilligan, George Mastras                           7\n",
       "Vince Gilligan, Peter Gould                              7\n",
       "Vince Gilligan, Sam Catlin                               6\n",
       "Vince Gilligan, Moira Walley-Beckett                     5\n",
       "Vince Gilligan, Thomas Schnauz                           4\n",
       "Vince Gilligan, Gennifer Hutchison                       4\n",
       "Vince Gilligan, John Shiban                              3\n",
       "Vince Gilligan, J. Roberts                               2\n",
       "Vince Gilligan, Peter Gould, George Mastras              2\n",
       "Vince Gilligan, George Mastras, Sam Catlin               1\n",
       "Vince Gilligan, Moira Walley-Beckett, J. Roberts         1\n",
       "Vince Gilligan, Thomas Schnauz, Moira Walley-Beckett     1\n",
       "Vince Gilligan, Sam Catlin, George Mastras               1\n",
       "Vince Gilligan, Peter Gould, Gennifer Hutchison          1\n",
       "Vince Gilligan, Sam Catlin, Moira Walley-Beckett         1\n",
       "Vince Gilligan, Sam Catlin, Peter Gould                  1\n",
       "Vince Gilligan, Patty Lin                                1\n",
       "Vince Gilligan, Moira Walley-Beckett, Thomas Schnauz     1\n",
       "Vince Gilligan, John Shiban, Thomas Schnauz              1\n",
       "Name: writer, dtype: int64"
      ]
     },
     "execution_count": 3,
     "metadata": {},
     "output_type": "execute_result"
    }
   ],
   "source": [
    "brba.writer.value_counts()"
   ]
  },
  {
   "cell_type": "markdown",
   "metadata": {
    "papermill": {
     "duration": 0.016602,
     "end_time": "2021-07-18T14:08:57.755249",
     "exception": false,
     "start_time": "2021-07-18T14:08:57.738647",
     "status": "completed"
    },
    "tags": []
   },
   "source": [
    "In order to correct this problem, the code below removes Vince Gilligan from the writer's list, except for episode 13 and the episodes he appears as the sole writer."
   ]
  },
  {
   "cell_type": "code",
   "execution_count": 4,
   "metadata": {
    "execution": {
     "iopub.execute_input": "2021-07-18T14:08:57.792978Z",
     "iopub.status.busy": "2021-07-18T14:08:57.792246Z",
     "iopub.status.idle": "2021-07-18T14:08:57.827215Z",
     "shell.execute_reply": "2021-07-18T14:08:57.827773Z",
     "shell.execute_reply.started": "2021-07-18T13:50:19.092519Z"
    },
    "papermill": {
     "duration": 0.055789,
     "end_time": "2021-07-18T14:08:57.827961",
     "exception": false,
     "start_time": "2021-07-18T14:08:57.772172",
     "status": "completed"
    },
    "tags": []
   },
   "outputs": [
    {
     "data": {
      "text/html": [
       "<div>\n",
       "<style scoped>\n",
       "    .dataframe tbody tr th:only-of-type {\n",
       "        vertical-align: middle;\n",
       "    }\n",
       "\n",
       "    .dataframe tbody tr th {\n",
       "        vertical-align: top;\n",
       "    }\n",
       "\n",
       "    .dataframe thead th {\n",
       "        text-align: right;\n",
       "    }\n",
       "</style>\n",
       "<table border=\"1\" class=\"dataframe\">\n",
       "  <thead>\n",
       "    <tr style=\"text-align: right;\">\n",
       "      <th></th>\n",
       "      <th>writer</th>\n",
       "      <th>rating</th>\n",
       "    </tr>\n",
       "  </thead>\n",
       "  <tbody>\n",
       "    <tr>\n",
       "      <th>0</th>\n",
       "      <td>Vince Gilligan</td>\n",
       "      <td>9.1</td>\n",
       "    </tr>\n",
       "    <tr>\n",
       "      <th>1</th>\n",
       "      <td>Vince Gilligan</td>\n",
       "      <td>8.7</td>\n",
       "    </tr>\n",
       "    <tr>\n",
       "      <th>2</th>\n",
       "      <td>Vince Gilligan</td>\n",
       "      <td>8.8</td>\n",
       "    </tr>\n",
       "    <tr>\n",
       "      <th>3</th>\n",
       "      <td>Vince Gilligan</td>\n",
       "      <td>8.3</td>\n",
       "    </tr>\n",
       "    <tr>\n",
       "      <th>4</th>\n",
       "      <td>Patty Lin</td>\n",
       "      <td>8.4</td>\n",
       "    </tr>\n",
       "    <tr>\n",
       "      <th>5</th>\n",
       "      <td>George Mastras</td>\n",
       "      <td>9.3</td>\n",
       "    </tr>\n",
       "    <tr>\n",
       "      <th>6</th>\n",
       "      <td>Peter Gould</td>\n",
       "      <td>8.9</td>\n",
       "    </tr>\n",
       "    <tr>\n",
       "      <th>7</th>\n",
       "      <td>J. Roberts</td>\n",
       "      <td>8.7</td>\n",
       "    </tr>\n",
       "    <tr>\n",
       "      <th>8</th>\n",
       "      <td>George Mastras</td>\n",
       "      <td>9.3</td>\n",
       "    </tr>\n",
       "    <tr>\n",
       "      <th>9</th>\n",
       "      <td>Peter Gould, George Mastras</td>\n",
       "      <td>8.4</td>\n",
       "    </tr>\n",
       "    <tr>\n",
       "      <th>10</th>\n",
       "      <td>Sam Catlin</td>\n",
       "      <td>8.3</td>\n",
       "    </tr>\n",
       "    <tr>\n",
       "      <th>11</th>\n",
       "      <td>Moira Walley-Beckett</td>\n",
       "      <td>8.4</td>\n",
       "    </tr>\n",
       "    <tr>\n",
       "      <th>12</th>\n",
       "      <td>Vince Gilligan, J. Roberts</td>\n",
       "      <td>8.9</td>\n",
       "    </tr>\n",
       "  </tbody>\n",
       "</table>\n",
       "</div>"
      ],
      "text/plain": [
       "                         writer  rating\n",
       "0                Vince Gilligan     9.1\n",
       "1                Vince Gilligan     8.7\n",
       "2                Vince Gilligan     8.8\n",
       "3                Vince Gilligan     8.3\n",
       "4                     Patty Lin     8.4\n",
       "5                George Mastras     9.3\n",
       "6                   Peter Gould     8.9\n",
       "7                    J. Roberts     8.7\n",
       "8                George Mastras     9.3\n",
       "9   Peter Gould, George Mastras     8.4\n",
       "10                   Sam Catlin     8.3\n",
       "11         Moira Walley-Beckett     8.4\n",
       "12   Vince Gilligan, J. Roberts     8.9"
      ]
     },
     "execution_count": 4,
     "metadata": {},
     "output_type": "execute_result"
    }
   ],
   "source": [
    "# combine the chained operations (brba['writer']['index' != 12]) into a single operation using loc\n",
    "# that way pandas can ensure the original DataFrame is set\n",
    "\n",
    "brba.loc[brba.index != 12, 'writer'] = brba['writer'].str.replace(r'Vince Gilligan, ', '')\n",
    "brba.head(13)"
   ]
  },
  {
   "cell_type": "markdown",
   "metadata": {
    "papermill": {
     "duration": 0.017359,
     "end_time": "2021-07-18T14:08:57.862866",
     "exception": false,
     "start_time": "2021-07-18T14:08:57.845507",
     "status": "completed"
    },
    "tags": []
   },
   "source": [
    "For this part, it was decided that each author would be analyzed individually. Therefore, the rows with more than one writer will be duplicated so the analysis won't count the string of more than one writer as a new one."
   ]
  },
  {
   "cell_type": "code",
   "execution_count": 5,
   "metadata": {
    "execution": {
     "iopub.execute_input": "2021-07-18T14:08:57.924008Z",
     "iopub.status.busy": "2021-07-18T14:08:57.922981Z",
     "iopub.status.idle": "2021-07-18T14:08:57.927475Z",
     "shell.execute_reply": "2021-07-18T14:08:57.927985Z",
     "shell.execute_reply.started": "2021-07-18T13:50:19.133146Z"
    },
    "papermill": {
     "duration": 0.047459,
     "end_time": "2021-07-18T14:08:57.928158",
     "exception": false,
     "start_time": "2021-07-18T14:08:57.880699",
     "status": "completed"
    },
    "tags": []
   },
   "outputs": [
    {
     "data": {
      "text/html": [
       "<div>\n",
       "<style scoped>\n",
       "    .dataframe tbody tr th:only-of-type {\n",
       "        vertical-align: middle;\n",
       "    }\n",
       "\n",
       "    .dataframe tbody tr th {\n",
       "        vertical-align: top;\n",
       "    }\n",
       "\n",
       "    .dataframe thead th {\n",
       "        text-align: right;\n",
       "    }\n",
       "</style>\n",
       "<table border=\"1\" class=\"dataframe\">\n",
       "  <thead>\n",
       "    <tr style=\"text-align: right;\">\n",
       "      <th></th>\n",
       "      <th>writer</th>\n",
       "      <th>rating</th>\n",
       "    </tr>\n",
       "  </thead>\n",
       "  <tbody>\n",
       "    <tr>\n",
       "      <th>0</th>\n",
       "      <td>Vince Gilligan</td>\n",
       "      <td>9.1</td>\n",
       "    </tr>\n",
       "    <tr>\n",
       "      <th>1</th>\n",
       "      <td>Vince Gilligan</td>\n",
       "      <td>8.7</td>\n",
       "    </tr>\n",
       "    <tr>\n",
       "      <th>2</th>\n",
       "      <td>Vince Gilligan</td>\n",
       "      <td>8.8</td>\n",
       "    </tr>\n",
       "    <tr>\n",
       "      <th>3</th>\n",
       "      <td>Vince Gilligan</td>\n",
       "      <td>8.3</td>\n",
       "    </tr>\n",
       "    <tr>\n",
       "      <th>4</th>\n",
       "      <td>Patty Lin</td>\n",
       "      <td>8.4</td>\n",
       "    </tr>\n",
       "    <tr>\n",
       "      <th>5</th>\n",
       "      <td>George Mastras</td>\n",
       "      <td>9.3</td>\n",
       "    </tr>\n",
       "    <tr>\n",
       "      <th>6</th>\n",
       "      <td>Peter Gould</td>\n",
       "      <td>8.9</td>\n",
       "    </tr>\n",
       "    <tr>\n",
       "      <th>7</th>\n",
       "      <td>J. Roberts</td>\n",
       "      <td>8.7</td>\n",
       "    </tr>\n",
       "    <tr>\n",
       "      <th>8</th>\n",
       "      <td>George Mastras</td>\n",
       "      <td>9.3</td>\n",
       "    </tr>\n",
       "    <tr>\n",
       "      <th>9</th>\n",
       "      <td>Peter Gould</td>\n",
       "      <td>8.4</td>\n",
       "    </tr>\n",
       "    <tr>\n",
       "      <th>9</th>\n",
       "      <td>George Mastras</td>\n",
       "      <td>8.4</td>\n",
       "    </tr>\n",
       "    <tr>\n",
       "      <th>10</th>\n",
       "      <td>Sam Catlin</td>\n",
       "      <td>8.3</td>\n",
       "    </tr>\n",
       "  </tbody>\n",
       "</table>\n",
       "</div>"
      ],
      "text/plain": [
       "             writer  rating\n",
       "0    Vince Gilligan     9.1\n",
       "1    Vince Gilligan     8.7\n",
       "2    Vince Gilligan     8.8\n",
       "3    Vince Gilligan     8.3\n",
       "4         Patty Lin     8.4\n",
       "5    George Mastras     9.3\n",
       "6       Peter Gould     8.9\n",
       "7        J. Roberts     8.7\n",
       "8    George Mastras     9.3\n",
       "9       Peter Gould     8.4\n",
       "9    George Mastras     8.4\n",
       "10       Sam Catlin     8.3"
      ]
     },
     "execution_count": 5,
     "metadata": {},
     "output_type": "execute_result"
    }
   ],
   "source": [
    "# split the authors in different rows\n",
    "brba_split = brba.assign(writer=brba['writer'].str.split(',')).explode('writer')\n",
    "brba_split.head(12)"
   ]
  },
  {
   "cell_type": "code",
   "execution_count": 6,
   "metadata": {
    "execution": {
     "iopub.execute_input": "2021-07-18T14:08:57.969127Z",
     "iopub.status.busy": "2021-07-18T14:08:57.968492Z",
     "iopub.status.idle": "2021-07-18T14:08:57.979493Z",
     "shell.execute_reply": "2021-07-18T14:08:57.978946Z",
     "shell.execute_reply.started": "2021-07-18T13:50:19.162022Z"
    },
    "papermill": {
     "duration": 0.033143,
     "end_time": "2021-07-18T14:08:57.979660",
     "exception": false,
     "start_time": "2021-07-18T14:08:57.946517",
     "status": "completed"
    },
    "tags": []
   },
   "outputs": [],
   "source": [
    "# fix the index\n",
    "brba_split = brba_split.reset_index().rename(columns = {'index': '#episode'})\n",
    "brba_split['#episode'] += 1\n",
    "\n",
    "# clean whitespaces from the writers names\n",
    "brba_split.writer = brba_split.writer.apply(lambda x: x.strip())"
   ]
  },
  {
   "cell_type": "code",
   "execution_count": 7,
   "metadata": {
    "execution": {
     "iopub.execute_input": "2021-07-18T14:08:58.030095Z",
     "iopub.status.busy": "2021-07-18T14:08:58.029272Z",
     "iopub.status.idle": "2021-07-18T14:08:58.035469Z",
     "shell.execute_reply": "2021-07-18T14:08:58.036187Z",
     "shell.execute_reply.started": "2021-07-18T13:50:19.174176Z"
    },
    "papermill": {
     "duration": 0.038442,
     "end_time": "2021-07-18T14:08:58.036447",
     "exception": false,
     "start_time": "2021-07-18T14:08:57.998005",
     "status": "completed"
    },
    "tags": []
   },
   "outputs": [
    {
     "name": "stdout",
     "output_type": "stream",
     "text": [
      "(74, 3)\n"
     ]
    },
    {
     "data": {
      "text/html": [
       "<div>\n",
       "<style scoped>\n",
       "    .dataframe tbody tr th:only-of-type {\n",
       "        vertical-align: middle;\n",
       "    }\n",
       "\n",
       "    .dataframe tbody tr th {\n",
       "        vertical-align: top;\n",
       "    }\n",
       "\n",
       "    .dataframe thead th {\n",
       "        text-align: right;\n",
       "    }\n",
       "</style>\n",
       "<table border=\"1\" class=\"dataframe\">\n",
       "  <thead>\n",
       "    <tr style=\"text-align: right;\">\n",
       "      <th></th>\n",
       "      <th>#episode</th>\n",
       "      <th>writer</th>\n",
       "      <th>rating</th>\n",
       "    </tr>\n",
       "  </thead>\n",
       "  <tbody>\n",
       "    <tr>\n",
       "      <th>0</th>\n",
       "      <td>1</td>\n",
       "      <td>Vince Gilligan</td>\n",
       "      <td>9.1</td>\n",
       "    </tr>\n",
       "    <tr>\n",
       "      <th>1</th>\n",
       "      <td>2</td>\n",
       "      <td>Vince Gilligan</td>\n",
       "      <td>8.7</td>\n",
       "    </tr>\n",
       "    <tr>\n",
       "      <th>2</th>\n",
       "      <td>3</td>\n",
       "      <td>Vince Gilligan</td>\n",
       "      <td>8.8</td>\n",
       "    </tr>\n",
       "    <tr>\n",
       "      <th>3</th>\n",
       "      <td>4</td>\n",
       "      <td>Vince Gilligan</td>\n",
       "      <td>8.3</td>\n",
       "    </tr>\n",
       "    <tr>\n",
       "      <th>4</th>\n",
       "      <td>5</td>\n",
       "      <td>Patty Lin</td>\n",
       "      <td>8.4</td>\n",
       "    </tr>\n",
       "    <tr>\n",
       "      <th>5</th>\n",
       "      <td>6</td>\n",
       "      <td>George Mastras</td>\n",
       "      <td>9.3</td>\n",
       "    </tr>\n",
       "    <tr>\n",
       "      <th>6</th>\n",
       "      <td>7</td>\n",
       "      <td>Peter Gould</td>\n",
       "      <td>8.9</td>\n",
       "    </tr>\n",
       "    <tr>\n",
       "      <th>7</th>\n",
       "      <td>8</td>\n",
       "      <td>J. Roberts</td>\n",
       "      <td>8.7</td>\n",
       "    </tr>\n",
       "    <tr>\n",
       "      <th>8</th>\n",
       "      <td>9</td>\n",
       "      <td>George Mastras</td>\n",
       "      <td>9.3</td>\n",
       "    </tr>\n",
       "    <tr>\n",
       "      <th>9</th>\n",
       "      <td>10</td>\n",
       "      <td>Peter Gould</td>\n",
       "      <td>8.4</td>\n",
       "    </tr>\n",
       "  </tbody>\n",
       "</table>\n",
       "</div>"
      ],
      "text/plain": [
       "   #episode          writer  rating\n",
       "0         1  Vince Gilligan     9.1\n",
       "1         2  Vince Gilligan     8.7\n",
       "2         3  Vince Gilligan     8.8\n",
       "3         4  Vince Gilligan     8.3\n",
       "4         5       Patty Lin     8.4\n",
       "5         6  George Mastras     9.3\n",
       "6         7     Peter Gould     8.9\n",
       "7         8      J. Roberts     8.7\n",
       "8         9  George Mastras     9.3\n",
       "9        10     Peter Gould     8.4"
      ]
     },
     "execution_count": 7,
     "metadata": {},
     "output_type": "execute_result"
    }
   ],
   "source": [
    "print(brba_split.shape)\n",
    "brba_split.head(10)"
   ]
  },
  {
   "cell_type": "markdown",
   "metadata": {
    "papermill": {
     "duration": 0.018757,
     "end_time": "2021-07-18T14:08:58.074970",
     "exception": false,
     "start_time": "2021-07-18T14:08:58.056213",
     "status": "completed"
    },
    "tags": []
   },
   "source": [
    "# Data analysis\n",
    "\n",
    "To begin the analysis is important to find out what is the average IMDB rating for each writer. This can provide a simple but powerful insight into the proposed question.\n",
    "\n",
    "From the result below, there is an indication that maybe the hypothesis formulated is wrong since Vince Gilligan doesn't have the second-highest IMDB rating average. However, the difference between him in the first place, Thomas Schnauz, is only 0.02 points, so further analysis is required."
   ]
  },
  {
   "cell_type": "code",
   "execution_count": 8,
   "metadata": {
    "execution": {
     "iopub.execute_input": "2021-07-18T14:08:58.135809Z",
     "iopub.status.busy": "2021-07-18T14:08:58.134954Z",
     "iopub.status.idle": "2021-07-18T14:08:58.139669Z",
     "shell.execute_reply": "2021-07-18T14:08:58.140173Z",
     "shell.execute_reply.started": "2021-07-18T13:50:19.198160Z"
    },
    "papermill": {
     "duration": 0.046189,
     "end_time": "2021-07-18T14:08:58.140362",
     "exception": false,
     "start_time": "2021-07-18T14:08:58.094173",
     "status": "completed"
    },
    "tags": []
   },
   "outputs": [
    {
     "data": {
      "text/html": [
       "<div>\n",
       "<style scoped>\n",
       "    .dataframe tbody tr th:only-of-type {\n",
       "        vertical-align: middle;\n",
       "    }\n",
       "\n",
       "    .dataframe tbody tr th {\n",
       "        vertical-align: top;\n",
       "    }\n",
       "\n",
       "    .dataframe thead th {\n",
       "        text-align: right;\n",
       "    }\n",
       "</style>\n",
       "<table border=\"1\" class=\"dataframe\">\n",
       "  <thead>\n",
       "    <tr style=\"text-align: right;\">\n",
       "      <th></th>\n",
       "      <th>writer</th>\n",
       "      <th>average_rating</th>\n",
       "    </tr>\n",
       "  </thead>\n",
       "  <tbody>\n",
       "    <tr>\n",
       "      <th>0</th>\n",
       "      <td>Thomas Schnauz</td>\n",
       "      <td>9.142857</td>\n",
       "    </tr>\n",
       "    <tr>\n",
       "      <th>1</th>\n",
       "      <td>Vince Gilligan</td>\n",
       "      <td>9.123077</td>\n",
       "    </tr>\n",
       "    <tr>\n",
       "      <th>2</th>\n",
       "      <td>Gennifer Hutchison</td>\n",
       "      <td>9.120000</td>\n",
       "    </tr>\n",
       "    <tr>\n",
       "      <th>3</th>\n",
       "      <td>Peter Gould</td>\n",
       "      <td>9.072727</td>\n",
       "    </tr>\n",
       "    <tr>\n",
       "      <th>4</th>\n",
       "      <td>George Mastras</td>\n",
       "      <td>9.063636</td>\n",
       "    </tr>\n",
       "    <tr>\n",
       "      <th>5</th>\n",
       "      <td>John Shiban</td>\n",
       "      <td>8.950000</td>\n",
       "    </tr>\n",
       "    <tr>\n",
       "      <th>6</th>\n",
       "      <td>Moira Walley-Beckett</td>\n",
       "      <td>8.911111</td>\n",
       "    </tr>\n",
       "    <tr>\n",
       "      <th>7</th>\n",
       "      <td>Sam Catlin</td>\n",
       "      <td>8.830000</td>\n",
       "    </tr>\n",
       "    <tr>\n",
       "      <th>8</th>\n",
       "      <td>J. Roberts</td>\n",
       "      <td>8.733333</td>\n",
       "    </tr>\n",
       "    <tr>\n",
       "      <th>9</th>\n",
       "      <td>Patty Lin</td>\n",
       "      <td>8.400000</td>\n",
       "    </tr>\n",
       "  </tbody>\n",
       "</table>\n",
       "</div>"
      ],
      "text/plain": [
       "                 writer  average_rating\n",
       "0        Thomas Schnauz        9.142857\n",
       "1        Vince Gilligan        9.123077\n",
       "2    Gennifer Hutchison        9.120000\n",
       "3           Peter Gould        9.072727\n",
       "4        George Mastras        9.063636\n",
       "5           John Shiban        8.950000\n",
       "6  Moira Walley-Beckett        8.911111\n",
       "7            Sam Catlin        8.830000\n",
       "8            J. Roberts        8.733333\n",
       "9             Patty Lin        8.400000"
      ]
     },
     "execution_count": 8,
     "metadata": {},
     "output_type": "execute_result"
    }
   ],
   "source": [
    "brba_mean = brba_split.groupby('writer').mean()['rating'].sort_values(ascending=False)\n",
    "brba_mean = pd.DataFrame(brba_mean).reset_index().rename(columns = {'rating': 'average_rating'})\n",
    "brba_mean"
   ]
  },
  {
   "cell_type": "markdown",
   "metadata": {
    "papermill": {
     "duration": 0.019204,
     "end_time": "2021-07-18T14:08:58.179235",
     "exception": false,
     "start_time": "2021-07-18T14:08:58.160031",
     "status": "completed"
    },
    "tags": []
   },
   "source": [
    "Calculating the standard deviation, it's expected that writers with fewer episodes will have a smaller std. Let us focus on the three writers with the highest average ratings: Thomas Schnauz, Vince Gilligan, and Gennifer Hutchinson. Comparing them, we can see that Vince Gilligan has the highest standard deviation in his ratings. However, it must be taken into account that he wrote 13 episodes, as Thomas and Gennifer wrote 7 and 6 episodes, respectively. "
   ]
  },
  {
   "cell_type": "code",
   "execution_count": 9,
   "metadata": {
    "execution": {
     "iopub.execute_input": "2021-07-18T14:08:58.228176Z",
     "iopub.status.busy": "2021-07-18T14:08:58.227499Z",
     "iopub.status.idle": "2021-07-18T14:08:58.240608Z",
     "shell.execute_reply": "2021-07-18T14:08:58.240026Z",
     "shell.execute_reply.started": "2021-07-18T13:50:19.228126Z"
    },
    "papermill": {
     "duration": 0.042005,
     "end_time": "2021-07-18T14:08:58.240759",
     "exception": false,
     "start_time": "2021-07-18T14:08:58.198754",
     "status": "completed"
    },
    "tags": []
   },
   "outputs": [
    {
     "data": {
      "text/html": [
       "<div>\n",
       "<style scoped>\n",
       "    .dataframe tbody tr th:only-of-type {\n",
       "        vertical-align: middle;\n",
       "    }\n",
       "\n",
       "    .dataframe tbody tr th {\n",
       "        vertical-align: top;\n",
       "    }\n",
       "\n",
       "    .dataframe thead th {\n",
       "        text-align: right;\n",
       "    }\n",
       "</style>\n",
       "<table border=\"1\" class=\"dataframe\">\n",
       "  <thead>\n",
       "    <tr style=\"text-align: right;\">\n",
       "      <th></th>\n",
       "      <th>writer</th>\n",
       "      <th>std_rating</th>\n",
       "    </tr>\n",
       "  </thead>\n",
       "  <tbody>\n",
       "    <tr>\n",
       "      <th>0</th>\n",
       "      <td>Patty Lin</td>\n",
       "      <td>0.000000</td>\n",
       "    </tr>\n",
       "    <tr>\n",
       "      <th>1</th>\n",
       "      <td>J. Roberts</td>\n",
       "      <td>0.124722</td>\n",
       "    </tr>\n",
       "    <tr>\n",
       "      <th>2</th>\n",
       "      <td>John Shiban</td>\n",
       "      <td>0.357071</td>\n",
       "    </tr>\n",
       "    <tr>\n",
       "      <th>3</th>\n",
       "      <td>Thomas Schnauz</td>\n",
       "      <td>0.416986</td>\n",
       "    </tr>\n",
       "    <tr>\n",
       "      <th>4</th>\n",
       "      <td>Peter Gould</td>\n",
       "      <td>0.432941</td>\n",
       "    </tr>\n",
       "    <tr>\n",
       "      <th>5</th>\n",
       "      <td>Gennifer Hutchison</td>\n",
       "      <td>0.435431</td>\n",
       "    </tr>\n",
       "    <tr>\n",
       "      <th>6</th>\n",
       "      <td>Vince Gilligan</td>\n",
       "      <td>0.475805</td>\n",
       "    </tr>\n",
       "    <tr>\n",
       "      <th>7</th>\n",
       "      <td>George Mastras</td>\n",
       "      <td>0.539819</td>\n",
       "    </tr>\n",
       "    <tr>\n",
       "      <th>8</th>\n",
       "      <td>Sam Catlin</td>\n",
       "      <td>0.621369</td>\n",
       "    </tr>\n",
       "    <tr>\n",
       "      <th>9</th>\n",
       "      <td>Moira Walley-Beckett</td>\n",
       "      <td>0.640216</td>\n",
       "    </tr>\n",
       "  </tbody>\n",
       "</table>\n",
       "</div>"
      ],
      "text/plain": [
       "                 writer  std_rating\n",
       "0             Patty Lin    0.000000\n",
       "1            J. Roberts    0.124722\n",
       "2           John Shiban    0.357071\n",
       "3        Thomas Schnauz    0.416986\n",
       "4           Peter Gould    0.432941\n",
       "5    Gennifer Hutchison    0.435431\n",
       "6        Vince Gilligan    0.475805\n",
       "7        George Mastras    0.539819\n",
       "8            Sam Catlin    0.621369\n",
       "9  Moira Walley-Beckett    0.640216"
      ]
     },
     "execution_count": 9,
     "metadata": {},
     "output_type": "execute_result"
    }
   ],
   "source": [
    "# ddof=1 for sample standard deviation (divisor: N − 1)\n",
    "# ddof=0 for population standard deviation (divisor: N)\n",
    "\n",
    "brba_std = brba_split.groupby('writer').std(ddof=0)['rating'].sort_values(ascending=True)\n",
    "brba_std = pd.DataFrame(brba_std).reset_index().rename(columns = {'rating': 'std_rating'})\n",
    "brba_std"
   ]
  },
  {
   "cell_type": "markdown",
   "metadata": {
    "papermill": {
     "duration": 0.019659,
     "end_time": "2021-07-18T14:08:58.280715",
     "exception": false,
     "start_time": "2021-07-18T14:08:58.261056",
     "status": "completed"
    },
    "tags": []
   },
   "source": [
    "Since the average and standard deviation calculated left room for interpretation, we must use another tool to have a better understanding of the distribution of ratings per writer. For that, we will use a boxplot, which can summarize the data by showing the median, quartiles, and maximum and minimum values. More on boxplot can be found in this [article](https://www.robrac.org.br/seer/index.php/ROBRAC/article/download/1132/897/) (in Portuguese).\n",
    "\n",
    "As we can see below, although Thomas and Gennifer (the last two boxes) have a lower standard deviation, Gilligan has 3 episodes with ratings above their maximum rating values and only one below their minimum. Furthermore, Gilligan's ratings present a distribution much closer to normal amongst all the writers."
   ]
  },
  {
   "cell_type": "code",
   "execution_count": 10,
   "metadata": {
    "execution": {
     "iopub.execute_input": "2021-07-18T14:08:58.335569Z",
     "iopub.status.busy": "2021-07-18T14:08:58.334800Z",
     "iopub.status.idle": "2021-07-18T14:08:58.772298Z",
     "shell.execute_reply": "2021-07-18T14:08:58.772814Z",
     "shell.execute_reply.started": "2021-07-18T13:50:19.249376Z"
    },
    "papermill": {
     "duration": 0.470993,
     "end_time": "2021-07-18T14:08:58.773039",
     "exception": false,
     "start_time": "2021-07-18T14:08:58.302046",
     "status": "completed"
    },
    "tags": []
   },
   "outputs": [
    {
     "data": {
      "image/png": "[encoded data removed]",
      "text/plain": [
       "<Figure size 1152x648 with 1 Axes>"
      ]
     },
     "metadata": {
      "needs_background": "light"
     },
     "output_type": "display_data"
    }
   ],
   "source": [
    "plt.figure(figsize=(16,9))\n",
    "sns.boxplot(x=\"writer\", y=\"rating\", data=brba_split)\n",
    "\n",
    "# show the data points as black dots\n",
    "sns.swarmplot(x=\"writer\", y=\"rating\", data=brba_split, color=\".25\")\n",
    "plt.show()"
   ]
  },
  {
   "cell_type": "markdown",
   "metadata": {
    "papermill": {
     "duration": 0.02337,
     "end_time": "2021-07-18T14:08:58.820049",
     "exception": false,
     "start_time": "2021-07-18T14:08:58.796679",
     "status": "completed"
    },
    "tags": []
   },
   "source": [
    "# Conclusion\n",
    "\n",
    "To answer the posed question, higher/lower ratings don't appear to have a strong relationship with the episode's writer. The median for each writer is only a few tenths apart.\n",
    "\n",
    "About the hypothesis, that is a bit more tricky. Although Gilligan doesn't have the highest average rating (2nd) nor the lower standard deviation (6th), we can see by the ratings that his episodes have a high quality. However, so do the majority of the other writers' ratings. Breaking Bad is broadly known as one of the best TV shows of all time for a reason. Since Gilligan is the creator and showrunner of the show, even though he did not write all episodes, they all happened under his supervision and counseling, and his mastery of storytelling is one of the many reasons why Breaking Bad is such a good drama series."
   ]
  },
  {
   "cell_type": "code",
   "execution_count": null,
   "metadata": {
    "papermill": {
     "duration": 0.02141,
     "end_time": "2021-07-18T14:08:58.864940",
     "exception": false,
     "start_time": "2021-07-18T14:08:58.843530",
     "status": "completed"
    },
    "tags": []
   },
   "outputs": [],
   "source": []
  },
  {
   "cell_type": "code",
   "execution_count": null,
   "metadata": {
    "papermill": {
     "duration": 0.02137,
     "end_time": "2021-07-18T14:08:58.908201",
     "exception": false,
     "start_time": "2021-07-18T14:08:58.886831",
     "status": "completed"
    },
    "tags": []
   },
   "outputs": [],
   "source": []
  }
 ],
 "metadata": {
  "kernelspec": {
   "display_name": "Python 3",
   "language": "python",
   "name": "python3"
  },
  "language_info": {
   "codemirror_mode": {
    "name": "ipython",
    "version": 3
   },
   "file_extension": ".py",
   "mimetype": "text/x-python",
   "name": "python",
   "nbconvert_exporter": "python",
   "pygments_lexer": "ipython3",
   "version": "3.8.5"
  },
  "papermill": {
   "default_parameters": {},
   "duration": 12.89124,
   "end_time": "2021-07-18T14:09:00.439996",
   "environment_variables": {},
   "exception": null,
   "input_path": "__notebook__.ipynb",
   "output_path": "__notebook__.ipynb",
   "parameters": {},
   "start_time": "2021-07-18T14:08:47.548756",
   "version": "2.3.3"
  }
 },
 "nbformat": 4,
 "nbformat_minor": 5
}
